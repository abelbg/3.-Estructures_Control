{
 "metadata": {
  "language_info": {
   "codemirror_mode": {
    "name": "ipython",
    "version": 3
   },
   "file_extension": ".py",
   "mimetype": "text/x-python",
   "name": "python",
   "nbconvert_exporter": "python",
   "pygments_lexer": "ipython3",
   "version": "3.8.5"
  },
  "orig_nbformat": 2,
  "kernelspec": {
   "name": "python385jvsc74a57bd06345758e5d736e732c2a7feeb6de508c9984c306a9009e8a74375b042c9b7f5c",
   "display_name": "Python 3.8.5 64-bit ('base': conda)"
  }
 },
 "nbformat": 4,
 "nbformat_minor": 2,
 "cells": [
  {
   "source": [
    "# IT Academy - Data Science amb Python\n",
    "##  Tasca 3: Estructures de control"
   ],
   "cell_type": "markdown",
   "metadata": {}
  },
  {
   "source": [
    "### Exercici 1"
   ],
   "cell_type": "markdown",
   "metadata": {}
  },
  {
   "cell_type": "code",
   "execution_count": 71,
   "metadata": {},
   "outputs": [],
   "source": [
    "def cualificar(nota):\n",
    "    if nota >= 9:\n",
    "        print(\"Excel·lent\")\n",
    "    elif nota >= 7.5:\n",
    "        print(\"Notable\")\n",
    "    elif nota >= 5:\n",
    "        print(\"Aprovat\")\n",
    "    else:\n",
    "        print(\"Suspès\")"
   ]
  },
  {
   "cell_type": "code",
   "execution_count": 73,
   "metadata": {},
   "outputs": [
    {
     "output_type": "stream",
     "name": "stdout",
     "text": [
      "Suspès\nAprovat\nNotable\nExcel·lent\n"
     ]
    }
   ],
   "source": [
    "cualificar(1)\n",
    "cualificar(6)\n",
    "cualificar(7.5)\n",
    "cualificar(9)"
   ]
  },
  {
   "source": [
    "###  Exercici 2"
   ],
   "cell_type": "markdown",
   "metadata": {}
  },
  {
   "source": [
    "while True:\n",
    "    try:\n",
    "        num1 = int(input(\"Introdueix el primer número:\"))\n",
    "        break\n",
    "    except ValueError:\n",
    "        print(\"Si us plau introdueix un número sencer\")\n",
    "        continue\n",
    "while True:\n",
    "    try:\n",
    "        num2 = int(input(\"Introdueixi el segon número\"))\n",
    "        break\n",
    "    except ValueError:\n",
    "        print(\"Si us plau introdueix un número sencer\")\n",
    "        continue\n",
    "\n",
    "if num1 > num2:\n",
    "    print(\"{} és més gran que {}.\".format(num1, num2))\n",
    "elif num1 < num2:\n",
    "    print(\"{} és més gran que {}.\".format(num2, num1))\n",
    "else:\n",
    "    print(\"Ambdós números son iguals.\")"
   ],
   "cell_type": "code",
   "metadata": {},
   "execution_count": 70,
   "outputs": [
    {
     "output_type": "stream",
     "name": "stdout",
     "text": [
      "5 és més gran que 4.\n"
     ]
    }
   ]
  },
  {
   "source": [
    "### Exercici 3"
   ],
   "cell_type": "markdown",
   "metadata": {}
  },
  {
   "cell_type": "code",
   "execution_count": 59,
   "metadata": {},
   "outputs": [
    {
     "output_type": "stream",
     "name": "stdout",
     "text": [
      "AbelAbelAbelAbelAbelAbelAbelAbelAbel\n"
     ]
    }
   ],
   "source": [
    "name = input(\"Quin és el teu nom?\")\n",
    "while True:\n",
    "    try:\n",
    "        num = int(input(\"Ara introdueix un número sencer\"))\n",
    "        if num > 0:\n",
    "            break\n",
    "        else:\n",
    "            print(\"El número ha de ser major a 0\")\n",
    "    except ValueError:\n",
    "        print(\"Si us plau introdueix un número sencer\")\n",
    "        continue\n",
    "print(name * num)"
   ]
  },
  {
   "source": [
    "### Exercici 4"
   ],
   "cell_type": "markdown",
   "metadata": {}
  },
  {
   "cell_type": "code",
   "execution_count": 68,
   "metadata": {},
   "outputs": [
    {
     "output_type": "stream",
     "name": "stdout",
     "text": [
      "Determina si la llista donada és simétrica o no.\n    \n"
     ]
    }
   ],
   "source": [
    "def is_symmetric(list):\n",
    "    \"\"\"Determina si la llista donada és simétrica o no.\n",
    "    \"\"\"\n",
    "    first_half = list[:-(len(list)//-2)]\n",
    "    second_half = list[(len(list)//2):]        \n",
    "    if first_half == second_half[::-1]:\n",
    "        print(\"La llista és simétrica i consta de {} elements.\".format(len(list)))\n",
    "    else:\n",
    "        print(\"La llista donada no és simétrica\")\n",
    "\n",
    "print(is_symmetric.__doc__)"
   ]
  },
  {
   "cell_type": "code",
   "execution_count": 69,
   "metadata": {},
   "outputs": [
    {
     "output_type": "stream",
     "name": "stdout",
     "text": [
      "La llista és simétrica i consta de 3 elements.\nLa llista donada no és simétrica\nLa llista és simétrica i consta de 5 elements.\n"
     ]
    }
   ],
   "source": [
    "is_symmetric([3, 0, 3])\n",
    "is_symmetric([4, 43, 43, 2, 2])\n",
    "is_symmetric([4.0, 2, [0, 0, 1], 2, 4.0])"
   ]
  },
  {
   "source": [
    "### Exercici 5"
   ],
   "cell_type": "markdown",
   "metadata": {}
  },
  {
   "cell_type": "code",
   "execution_count": 115,
   "metadata": {},
   "outputs": [],
   "source": [
    "def match_position(list):\n",
    "    total = 0\n",
    "    for count, value in enumerate(list):\n",
    "        if count == value:\n",
    "            # print(\"El valor del número {} coincideix amb la seva posició en la llista.\".format(value))\n",
    "            total += 1\n",
    "        else:\n",
    "            continue\n",
    "    print(\"En aquesta llista hi han {} números els valors dels quals coincideixen amb la seva posició.\".format(total))"
   ]
  },
  {
   "cell_type": "code",
   "execution_count": 116,
   "metadata": {},
   "outputs": [
    {
     "output_type": "stream",
     "name": "stdout",
     "text": [
      "En aquesta llista hi han 3 números els valors dels quals coincideixen amb la seva posició.\n"
     ]
    }
   ],
   "source": [
    "match_position([0, 4, 7, 3, 4, 42])"
   ]
  }
 ]
}