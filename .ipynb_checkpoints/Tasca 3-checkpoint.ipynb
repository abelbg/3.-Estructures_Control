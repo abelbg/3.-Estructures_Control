{
 "cells": [
  {
   "cell_type": "markdown",
   "metadata": {},
   "source": [
    "# IT Academy - Data Science amb Python\n",
    "##  Tasca 3: Estructures de control"
   ]
  },
  {
   "cell_type": "markdown",
   "metadata": {},
   "source": [
    "### Exercici 1"
   ]
  },
  {
   "cell_type": "code",
   "execution_count": 1,
   "metadata": {
    "ExecuteTime": {
     "end_time": "2021-05-03T05:43:16.173680Z",
     "start_time": "2021-05-03T05:43:16.159653Z"
    }
   },
   "outputs": [],
   "source": [
    "def cualificar(nota):\n",
    "    if nota >= 9:\n",
    "        print(\"Excel·lent\")\n",
    "    elif nota >= 7.5:\n",
    "        print(\"Notable\")\n",
    "    elif nota >= 5:\n",
    "        print(\"Aprovat\")\n",
    "    else:\n",
    "        print(\"Suspès\")"
   ]
  },
  {
   "cell_type": "code",
   "execution_count": 2,
   "metadata": {
    "ExecuteTime": {
     "end_time": "2021-05-03T05:43:18.672836Z",
     "start_time": "2021-05-03T05:43:18.658738Z"
    }
   },
   "outputs": [
    {
     "name": "stdout",
     "output_type": "stream",
     "text": [
      "Suspès\n",
      "Aprovat\n",
      "Notable\n",
      "Excel·lent\n"
     ]
    }
   ],
   "source": [
    "cualificar(1)\n",
    "cualificar(6)\n",
    "cualificar(7.5)\n",
    "cualificar(9)"
   ]
  },
  {
   "cell_type": "markdown",
   "metadata": {},
   "source": [
    "###  Exercici 2"
   ]
  },
  {
   "cell_type": "code",
   "execution_count": 3,
   "metadata": {
    "ExecuteTime": {
     "end_time": "2021-05-03T05:43:38.737135Z",
     "start_time": "2021-05-03T05:43:22.099524Z"
    }
   },
   "outputs": [
    {
     "name": "stdout",
     "output_type": "stream",
     "text": [
      "Introdueix el primer número:cuatre\n",
      "Si us plau introdueix un número sencer\n",
      "Introdueix el primer número:4\n",
      "Introdueixi el segon número5\n",
      "5 és més gran que 4.\n"
     ]
    }
   ],
   "source": [
    "while True:\n",
    "    try:\n",
    "        num1 = int(input(\"Introdueix el primer número:\"))\n",
    "        break\n",
    "    except ValueError:\n",
    "        print(\"Si us plau introdueix un número sencer\")\n",
    "        continue\n",
    "while True:\n",
    "    try:\n",
    "        num2 = int(input(\"Introdueixi el segon número\"))\n",
    "        break\n",
    "    except ValueError:\n",
    "        print(\"Si us plau introdueix un número sencer\")\n",
    "        continue\n",
    "\n",
    "if num1 > num2:\n",
    "    print(\"{} és més gran que {}.\".format(num1, num2))\n",
    "elif num1 < num2:\n",
    "    print(\"{} és més gran que {}.\".format(num2, num1))\n",
    "else:\n",
    "    print(\"Ambdós números son iguals.\")"
   ]
  },
  {
   "cell_type": "markdown",
   "metadata": {},
   "source": [
    "### Exercici 3"
   ]
  },
  {
   "cell_type": "code",
   "execution_count": null,
   "metadata": {
    "ExecuteTime": {
     "start_time": "2021-05-03T05:43:56.235Z"
    }
   },
   "outputs": [
    {
     "name": "stdout",
     "output_type": "stream",
     "text": [
      "Quin és el teu nom?Abel\n",
      "Ara introdueix un número sencer0\n",
      "El número ha de ser major a 0\n"
     ]
    }
   ],
   "source": [
    "name = input(\"Quin és el teu nom?\")\n",
    "while True:\n",
    "    try:\n",
    "        num = int(input(\"Ara introdueix un número sencer\"))\n",
    "        if num > 0:\n",
    "            break\n",
    "        else:\n",
    "            print(\"El número ha de ser major a 0\")\n",
    "    except ValueError:\n",
    "        print(\"Si us plau introdueix un número sencer\")\n",
    "        continue\n",
    "print(name * num)"
   ]
  },
  {
   "cell_type": "markdown",
   "metadata": {},
   "source": [
    "### Exercici 4"
   ]
  },
  {
   "cell_type": "code",
   "execution_count": 68,
   "metadata": {},
   "outputs": [
    {
     "name": "stdout",
     "output_type": "stream",
     "text": [
      "Determina si la llista donada és simétrica o no.\n",
      "    \n"
     ]
    }
   ],
   "source": [
    "def is_symmetric(list):\n",
    "    \"\"\"Determina si la llista donada és simétrica o no.\n",
    "    \"\"\"\n",
    "    first_half = list[:-(len(list)//-2)]\n",
    "    second_half = list[(len(list)//2):]        \n",
    "    if first_half == second_half[::-1]:\n",
    "        print(\"La llista és simétrica i consta de {} elements.\".format(len(list)))\n",
    "    else:\n",
    "        print(\"La llista donada no és simétrica\")\n",
    "\n",
    "print(is_symmetric.__doc__)"
   ]
  },
  {
   "cell_type": "code",
   "execution_count": 69,
   "metadata": {},
   "outputs": [
    {
     "name": "stdout",
     "output_type": "stream",
     "text": [
      "La llista és simétrica i consta de 3 elements.\n",
      "La llista donada no és simétrica\n",
      "La llista és simétrica i consta de 5 elements.\n"
     ]
    }
   ],
   "source": [
    "is_symmetric([3, 0, 3])\n",
    "is_symmetric([4, 43, 43, 2, 2])\n",
    "is_symmetric([4.0, 2, [0, 0, 1], 2, 4.0])"
   ]
  },
  {
   "cell_type": "markdown",
   "metadata": {},
   "source": [
    "### Exercici 5"
   ]
  },
  {
   "cell_type": "code",
   "execution_count": 115,
   "metadata": {},
   "outputs": [],
   "source": [
    "def match_position(list):\n",
    "    total = 0\n",
    "    for count, value in enumerate(list):\n",
    "        if count == value:\n",
    "            # print(\"El valor del número {} coincideix amb la seva posició en la llista.\".format(value))\n",
    "            total += 1\n",
    "        else:\n",
    "            continue\n",
    "    print(\"En aquesta llista hi han {} números els valors dels quals coincideixen amb la seva posició.\".format(total))"
   ]
  },
  {
   "cell_type": "code",
   "execution_count": 116,
   "metadata": {},
   "outputs": [
    {
     "name": "stdout",
     "output_type": "stream",
     "text": [
      "En aquesta llista hi han 3 números els valors dels quals coincideixen amb la seva posició.\n"
     ]
    }
   ],
   "source": [
    "match_position([0, 4, 7, 3, 4, 42])"
   ]
  }
 ],
 "metadata": {
  "kernelspec": {
   "display_name": "Python 3",
   "language": "python",
   "name": "python3"
  },
  "language_info": {
   "codemirror_mode": {
    "name": "ipython",
    "version": 3
   },
   "file_extension": ".py",
   "mimetype": "text/x-python",
   "name": "python",
   "nbconvert_exporter": "python",
   "pygments_lexer": "ipython3",
   "version": "3.8.5"
  },
  "toc": {
   "base_numbering": 1,
   "nav_menu": {},
   "number_sections": true,
   "sideBar": true,
   "skip_h1_title": false,
   "title_cell": "Table of Contents",
   "title_sidebar": "Contents",
   "toc_cell": false,
   "toc_position": {},
   "toc_section_display": true,
   "toc_window_display": false
  }
 },
 "nbformat": 4,
 "nbformat_minor": 2
}
